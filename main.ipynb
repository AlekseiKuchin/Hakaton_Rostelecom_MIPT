{
 "cells": [
  {
   "cell_type": "code",
   "execution_count": 47,
   "metadata": {},
   "outputs": [],
   "source": [
    "from clickhouse_driver import Client"
   ]
  },
  {
   "cell_type": "code",
   "execution_count": 48,
   "metadata": {},
   "outputs": [],
   "source": [
    "clickhouse = Client(\n",
    "    host='127.0.0.1',\n",
    "    port=19000,\n",
    "    user='default',\n",
    "    password='SkyWalker25!'\n",
    ")"
   ]
  },
  {
   "cell_type": "code",
   "execution_count": 49,
   "metadata": {},
   "outputs": [
    {
     "name": "stdout",
     "output_type": "stream",
     "text": [
      "[(0,), (1,), (2,), (3,), (4,)]\n"
     ]
    }
   ],
   "source": [
    "version = client.execute('SELECT * FROM system.numbers LIMIT 5')\n",
    "print(version)"
   ]
  },
  {
   "cell_type": "code",
   "execution_count": 50,
   "metadata": {},
   "outputs": [
    {
     "data": {
      "text/plain": [
       "[]"
      ]
     },
     "execution_count": 50,
     "metadata": {},
     "output_type": "execute_result"
    }
   ],
   "source": [
    "clickhouse.execute(\"DROP TABLE logs\")"
   ]
  },
  {
   "cell_type": "markdown",
   "metadata": {},
   "source": [
    "Пример логов:\n",
    "15.74.45.114 - - [2023-01-05 00:00:03 +0300] \"DELETE /usr/admin HTTP/1.0\" 304 5016 \"-\" \"Mozilla/5.0 (Linux; Android 10; ONEPLUS A6000) AppleWebKit/537.36 (KHTML, like Gecko) Chrome/87.0.4280.141 Mobile Safari/537.36\" 4533\n",
    "122.239.116.246 - - [2023-01-05 00:00:05 +0300] \"GET /usr/login HTTP/1.0\" 200 4973 \"http://www.gonzalez.info/explore/explorehome.jsp\" \"Mozilla/5.0 (Windows NT 10.0; Win64; x64) AppleWebKit/537.36 (KHTML, like Gecko) Chrome/87.0.4280.141 Safari/537.36\" 3144\n",
    "139.31.190.36 - - [2023-01-05 00:00:10 +0300] \"GET /usr/admin/developer HTTP/1.0\" 403 5087 \"-\" \"Mozilla/5.0 (Windows NT 10.0; Win64; x64) AppleWebKit/537.36 (KHTML, like Gecko) Chrome/87.0.4280.141 Safari/537.36\" 4437\n",
    "196.241.201.130 - - [2023-01-05 00:00:12 +0300] \"PUT /usr/admin/developer HTTP/1.0\" 404 4989 \"http://www.gonzalez.info/explore/explorehome.jsp\" \"Mozilla/5.0 (Macintosh; Intel Mac OS X 10_9_3) AppleWebKit/537.75.14 (KHTML, like Gecko) Version/7.0.3 Safari/7046A194A\" 4445\n",
    "24.165.196.101 - - [2023-01-05 00:00:12 +0300] \"PUT /usr/admin HTTP/1.0\" 404 4980 \"-\" \"Mozilla/5.0 (Windows NT 10.0; Win64; x64) AppleWebKit/537.36 (KHTML, like Gecko) Chrome/87.0.4280.141 Safari/537.36\" 2039\n",
    "114.87.92.66 - - [2023-01-05 00:00:13 +0300] \"PUT /usr/admin/developer HTTP/1.0\" 500 4980 \"http://www.gonzalez.info/explore/explorehome.jsp\" \"Mozilla/5.0 (Linux; Android 10; ONEPLUS A6000) AppleWebKit/537.36 (KHTML, like Gecko) Chrome/77.0.3865.116 Mobile Safari/537.36 EdgA/45.12.4.5121\" 3635\n",
    "190.53.230.43 - - [2023-01-05 00:00:14 +0300] \"PUT /usr/register HTTP/1.0\" 304 5062 \"http://www.gonzalez.info/explore/explorehome.jsp\" \"Mozilla/5.0 (Windows NT 10.0; Win64; x64) AppleWebKit/537.36 (KHTML, like Gecko) Chrome/87.0.4280.88 Safari/537.36 OPR/73.0.3856.329\" 1527\n",
    "192.56.34.224 - - [2023-01-05 00:00:17 +0300] \"GET /usr/admin HTTP/1.0\" 200 4939 \"http://www.gonzalez.info/explore/explorehome.jsp\" \"Mozilla/5.0 (iPhone; CPU iPhone OS 12_4_9 like Mac OS X) AppleWebKit/605.1.15 (KHTML, like Gecko) Version/12.1.2 Mobile/15E148 Safari/604.1\" 2903\n",
    "216.99.151.252 - - [2023-01-05 00:00:19 +0300] \"PUT /usr/admin HTTP/1.0\" 502 5026 \"http://www.gonzalez.info/explore/explorehome.jsp\" \"Mozilla/5.0 (Windows NT 10.0; Win64; x64) AppleWebKit/537.36 (KHTML, like Gecko) Chrome/89.0.4380.0 Safari/537.36 Edg/89.0.759.0\" 118\n",
    "175.112.158.124 - - [2023-01-05 00:00:19 +0300] \"POST /usr HTTP/1.0\" 403 5032 \"http://www.gonzalez.info/explore/explorehome.jsp\" \"Mozilla/5.0 (Linux; Android 10; ONEPLUS A6000) AppleWebKit/537.36 (KHTML, like Gecko) Chrome/87.0.4280.141 Mobile Safari/537.36\" 217"
   ]
  },
  {
   "cell_type": "markdown",
   "metadata": {},
   "source": [
    "Разработать структуру базы данных (модель типа «звезда» или\n",
    "«снежинка») для хранения и анализа логов. Логи файлов размещаются\n",
    "в одном каталоге."
   ]
  },
  {
   "cell_type": "markdown",
   "metadata": {},
   "source": [
    "Структура логов (IP-адрес, дата/время, метод, путь, статус, user-agent и т.д.) хорошо подходит под одну «факт»-таблицу, где большая часть полей хранится непосредственно в факт-таблице, а некоторые повторяющиеся поля (например, user-agent, реферер, IP, метод) можно вынести в небольшие «измерения» (dimension tables)."
   ]
  },
  {
   "cell_type": "code",
   "execution_count": 51,
   "metadata": {},
   "outputs": [
    {
     "data": {
      "text/plain": [
       "[]"
      ]
     },
     "execution_count": 51,
     "metadata": {},
     "output_type": "execute_result"
    }
   ],
   "source": [
    "clickhouse.execute(\"\"\"\n",
    "CREATE TABLE IF NOT EXISTS logs (\n",
    "    ip String,\n",
    "    timestamp DateTime,\n",
    "    method String,\n",
    "    path String,\n",
    "    protocol String,\n",
    "    status UInt16,\n",
    "    bytes_sent UInt32,\n",
    "    referrer String,\n",
    "    user_agent String,\n",
    "    response_time UInt32\n",
    ")\n",
    "ENGINE = MergeTree()\n",
    "PARTITION BY toYYYYMM(timestamp)\n",
    "ORDER BY (timestamp, ip)\n",
    "    \"\"\")"
   ]
  },
  {
   "cell_type": "code",
   "execution_count": null,
   "metadata": {},
   "outputs": [
    {
     "name": "stdout",
     "output_type": "stream",
     "text": [
      "Загрузка логов завершена!\n"
     ]
    }
   ],
   "source": [
    "import re\n",
    "from datetime import datetime\n",
    "from collections import defaultdict\n",
    "\n",
    "pattern = re.compile(\n",
    "    r'^(?P<ip>\\S+)\\s-\\s-\\s\\[(?P<datetime>[^\\]]+)\\]\\s'\n",
    "    r'\"(?P<method>\\S+)\\s(?P<path>\\S+)\\s(?P<protocol>[^\"]+)\"\\s'\n",
    "    r'(?P<status>\\d+)\\s'\n",
    "    r'(?P<bytes>\\d+)\\s'\n",
    "    r'\"(?P<referrer>[^\"]*)\"\\s'\n",
    "    r'\"(?P<useragent>[^\"]*)\"\\s'\n",
    "    r'(?P<response_time>\\d+)$'\n",
    ")\n",
    "def parse_datetime(dt_string):\n",
    "    dt_string = dt_string.replace(\"+0300\", \"\").strip()\n",
    "    return datetime.strptime(dt_string, \"%Y-%m-%d %H:%M:%S\")\n",
    "\n",
    "\n",
    "#Подготавливаем batch для вставки в logs\n",
    "batch_size = 1000\n",
    "batch_data = []\n",
    "\n",
    "#Собираем информацию IP -> day -> count\n",
    "stats_by_ip_and_day = defaultdict(lambda: defaultdict(int))\n",
    "#Считаем отказы сервера (4хх, 5хх)\n",
    "refusals_by_ip_and_day = defaultdict(lambda: defaultdict(int))\n",
    "\n",
    "\n",
    "\n",
    "with open('logfile1.log', 'r', encoding='utf-8') as f:\n",
    "    for line in f:\n",
    "        line = line.strip()\n",
    "        if not line:\n",
    "            continue\n",
    "        match = pattern.match(line)\n",
    "        if match:\n",
    "            gd = match.groupdict()\n",
    "            ip = gd[\"ip\"]\n",
    "            dt_str = gd[\"datetime\"]\n",
    "            method = gd[\"method\"]\n",
    "            path_ = gd[\"path\"]\n",
    "            protocol_ = gd[\"protocol\"]\n",
    "            status = int(gd[\"status\"])\n",
    "            bytes_ = int(gd[\"bytes\"])\n",
    "            referrer_ = gd[\"referrer\"]\n",
    "            useragent_ = gd[\"useragent\"]\n",
    "            response_time_ = int(gd[\"response_time\"])\n",
    "            \n",
    "            # Парсим время\n",
    "            dt_obj = parse_datetime(dt_str)\n",
    "\n",
    "            batch_data.append((\n",
    "                ip,\n",
    "                dt_obj,\n",
    "                method,\n",
    "                path_,\n",
    "                protocol_,\n",
    "                status,\n",
    "                bytes_,\n",
    "                referrer_,\n",
    "                useragent_,\n",
    "                response_time_\n",
    "            ))\n",
    "\n",
    "            day_str = dt_obj.strftime('%Y%m%d')\n",
    "\n",
    "            stats_by_ip_and_day[ip][day_str] +=1\n",
    "\n",
    "            if 400 <= status < 600:\n",
    "                refusals_by_ip_and_day[ip][day_str] += 1\n",
    "\n",
    "            # Когда накопили достаточно строк — отправляем в ClickHouse\n",
    "            if len(batch_data) >= batch_size:\n",
    "                clickhouse.execute(\n",
    "                    \"INSERT INTO logs VALUES\",\n",
    "                    batch_data\n",
    "                )\n",
    "                batch_data.clear()\n",
    "\n",
    "# Вставляем «хвост» (если остались записи в batch_data)\n",
    "if batch_data:\n",
    "    clickhouse.execute(\n",
    "        \"INSERT INTO logs VALUES\",\n",
    "        batch_data\n",
    "    )\n",
    "    batch_data.clear()\n",
    "\n",
    "print(\"Загрузка логов завершена!\")"
   ]
  }
 ],
 "metadata": {
  "kernelspec": {
   "display_name": ".hakaton",
   "language": "python",
   "name": "python3"
  },
  "language_info": {
   "codemirror_mode": {
    "name": "ipython",
    "version": 3
   },
   "file_extension": ".py",
   "mimetype": "text/x-python",
   "name": "python",
   "nbconvert_exporter": "python",
   "pygments_lexer": "ipython3",
   "version": "3.13.2"
  }
 },
 "nbformat": 4,
 "nbformat_minor": 2
}
